{
 "cells": [
  {
   "cell_type": "code",
   "execution_count": 2,
   "id": "6a4701e5-770b-497c-a469-e9449677fb36",
   "metadata": {},
   "outputs": [
    {
     "data": {
      "text/html": [
       "<div>\n",
       "<style scoped>\n",
       "    .dataframe tbody tr th:only-of-type {\n",
       "        vertical-align: middle;\n",
       "    }\n",
       "\n",
       "    .dataframe tbody tr th {\n",
       "        vertical-align: top;\n",
       "    }\n",
       "\n",
       "    .dataframe thead th {\n",
       "        text-align: right;\n",
       "    }\n",
       "</style>\n",
       "<table border=\"1\" class=\"dataframe\">\n",
       "  <thead>\n",
       "    <tr style=\"text-align: right;\">\n",
       "      <th></th>\n",
       "      <th>START_DATE*</th>\n",
       "      <th>END_DATE*</th>\n",
       "      <th>CATEGORY*</th>\n",
       "      <th>START*</th>\n",
       "      <th>STOP*</th>\n",
       "      <th>MILES*</th>\n",
       "      <th>PURPOSE*</th>\n",
       "    </tr>\n",
       "  </thead>\n",
       "  <tbody>\n",
       "    <tr>\n",
       "      <th>0</th>\n",
       "      <td>1/1/2016 21:11</td>\n",
       "      <td>1/1/2016 21:17</td>\n",
       "      <td>Business</td>\n",
       "      <td>Fort Pierce</td>\n",
       "      <td>Fort Pierce</td>\n",
       "      <td>5.1</td>\n",
       "      <td>Meal/Entertain</td>\n",
       "    </tr>\n",
       "    <tr>\n",
       "      <th>1</th>\n",
       "      <td>1/2/2016 1:25</td>\n",
       "      <td>1/2/2016 1:37</td>\n",
       "      <td>Business</td>\n",
       "      <td>Fort Pierce</td>\n",
       "      <td>Fort Pierce</td>\n",
       "      <td>5.0</td>\n",
       "      <td>NaN</td>\n",
       "    </tr>\n",
       "    <tr>\n",
       "      <th>2</th>\n",
       "      <td>1/2/2016 20:25</td>\n",
       "      <td>1/2/2016 20:38</td>\n",
       "      <td>Business</td>\n",
       "      <td>Fort Pierce</td>\n",
       "      <td>Fort Pierce</td>\n",
       "      <td>4.8</td>\n",
       "      <td>Errand/Supplies</td>\n",
       "    </tr>\n",
       "    <tr>\n",
       "      <th>3</th>\n",
       "      <td>1/5/2016 17:31</td>\n",
       "      <td>1/5/2016 17:45</td>\n",
       "      <td>Business</td>\n",
       "      <td>Fort Pierce</td>\n",
       "      <td>Fort Pierce</td>\n",
       "      <td>4.7</td>\n",
       "      <td>Meeting</td>\n",
       "    </tr>\n",
       "    <tr>\n",
       "      <th>4</th>\n",
       "      <td>1/6/2016 14:42</td>\n",
       "      <td>1/6/2016 15:49</td>\n",
       "      <td>Business</td>\n",
       "      <td>Fort Pierce</td>\n",
       "      <td>West Palm Beach</td>\n",
       "      <td>63.7</td>\n",
       "      <td>Customer Visit</td>\n",
       "    </tr>\n",
       "  </tbody>\n",
       "</table>\n",
       "</div>"
      ],
      "text/plain": [
       "      START_DATE*       END_DATE* CATEGORY*       START*            STOP*  \\\n",
       "0  1/1/2016 21:11  1/1/2016 21:17  Business  Fort Pierce      Fort Pierce   \n",
       "1   1/2/2016 1:25   1/2/2016 1:37  Business  Fort Pierce      Fort Pierce   \n",
       "2  1/2/2016 20:25  1/2/2016 20:38  Business  Fort Pierce      Fort Pierce   \n",
       "3  1/5/2016 17:31  1/5/2016 17:45  Business  Fort Pierce      Fort Pierce   \n",
       "4  1/6/2016 14:42  1/6/2016 15:49  Business  Fort Pierce  West Palm Beach   \n",
       "\n",
       "   MILES*         PURPOSE*  \n",
       "0     5.1   Meal/Entertain  \n",
       "1     5.0              NaN  \n",
       "2     4.8  Errand/Supplies  \n",
       "3     4.7          Meeting  \n",
       "4    63.7   Customer Visit  "
      ]
     },
     "execution_count": 2,
     "metadata": {},
     "output_type": "execute_result"
    }
   ],
   "source": [
    "#DATA EXPLORATION##\n",
    "#Load Uber.csv dataset\n",
    "import pandas as pd\n",
    "data=pd.read_csv(r\"C:\\Users\\K. Lakhan\\Downloads\\Uber_Drives_2016.csv\")\n",
    "data.head()"
   ]
  },
  {
   "cell_type": "code",
   "execution_count": 3,
   "id": "d1253471-e023-4de6-b609-f620e14312ac",
   "metadata": {},
   "outputs": [
    {
     "name": "stdout",
     "output_type": "stream",
     "text": [
      "(1156, 7)\n"
     ]
    }
   ],
   "source": [
    "#Display the number of rows and columns\n",
    "print(data.shape)"
   ]
  },
  {
   "cell_type": "code",
   "execution_count": 7,
   "id": "82f52499-bb92-48ca-be49-cf0382d19748",
   "metadata": {},
   "outputs": [
    {
     "name": "stdout",
     "output_type": "stream",
     "text": [
      "['Business' 'Personal' nan]\n"
     ]
    }
   ],
   "source": [
    "#Show unique categories in the CATEGORY column\n",
    "\n",
    "print(data['CATEGORY*'].unique())"
   ]
  },
  {
   "cell_type": "code",
   "execution_count": 12,
   "id": "c586229e-9c18-4c55-868e-740d9efe9c72",
   "metadata": {},
   "outputs": [
    {
     "name": "stdout",
     "output_type": "stream",
     "text": [
      "503\n"
     ]
    }
   ],
   "source": [
    "#Find how many null values are there in PURPOSE\n",
    "print(data['PURPOSE*'].isnull().sum())"
   ]
  },
  {
   "cell_type": "code",
   "execution_count": 15,
   "id": "39d54570-fbc5-42dd-bf6b-82ddabf31f33",
   "metadata": {},
   "outputs": [
    {
     "name": "stdout",
     "output_type": "stream",
     "text": [
      "Index(['START_DATE', 'END_DATE', 'CATEGORY*', 'START', 'STOP*', 'MILES*',\n",
      "       'PURPOSE*'],\n",
      "      dtype='object')\n"
     ]
    }
   ],
   "source": [
    "#Rename all columns in uppercase\n",
    "data.columns=data.columns.str.upper()\n",
    "print(data.columns)"
   ]
  },
  {
   "cell_type": "markdown",
   "id": "1d87d776-15e9-4aa0-8c29-ec9671584ad1",
   "metadata": {},
   "source": [
    "# DATA FILTERING & TRANSFORMATION"
   ]
  },
  {
   "cell_type": "code",
   "execution_count": 17,
   "id": "c83e105d-5c6e-47ce-9352-166da1c27668",
   "metadata": {},
   "outputs": [
    {
     "name": "stdout",
     "output_type": "stream",
     "text": [
      "            START_DATE          END_DATE CATEGORY*             START  \\\n",
      "0       1/1/2016 21:11    1/1/2016 21:17  Business       Fort Pierce   \n",
      "1        1/2/2016 1:25     1/2/2016 1:37  Business       Fort Pierce   \n",
      "2       1/2/2016 20:25    1/2/2016 20:38  Business       Fort Pierce   \n",
      "3       1/5/2016 17:31    1/5/2016 17:45  Business       Fort Pierce   \n",
      "4       1/6/2016 14:42    1/6/2016 15:49  Business       Fort Pierce   \n",
      "...                ...               ...       ...               ...   \n",
      "1150   12/31/2016 1:07   12/31/2016 1:14  Business           Kar?chi   \n",
      "1151  12/31/2016 13:24  12/31/2016 13:42  Business           Kar?chi   \n",
      "1152  12/31/2016 15:03  12/31/2016 15:38  Business  Unknown Location   \n",
      "1153  12/31/2016 21:32  12/31/2016 21:50  Business        Katunayake   \n",
      "1154  12/31/2016 22:08  12/31/2016 23:51  Business           Gampaha   \n",
      "\n",
      "                 STOP*  MILES*         PURPOSE*  \n",
      "0          Fort Pierce     5.1   Meal/Entertain  \n",
      "1          Fort Pierce     5.0              NaN  \n",
      "2          Fort Pierce     4.8  Errand/Supplies  \n",
      "3          Fort Pierce     4.7          Meeting  \n",
      "4      West Palm Beach    63.7   Customer Visit  \n",
      "...                ...     ...              ...  \n",
      "1150           Kar?chi     0.7          Meeting  \n",
      "1151  Unknown Location     3.9   Temporary Site  \n",
      "1152  Unknown Location    16.2          Meeting  \n",
      "1153           Gampaha     6.4   Temporary Site  \n",
      "1154         Ilukwatta    48.2   Temporary Site  \n",
      "\n",
      "[1078 rows x 7 columns]\n"
     ]
    }
   ],
   "source": [
    "#Display rides where CATEGORY =='Business'.\n",
    "rides=data[data['CATEGORY*']=='Business']\n",
    "print(rides)"
   ]
  },
  {
   "cell_type": "code",
   "execution_count": 21,
   "id": "01dde005-3c0f-461b-b8af-286abb7c323c",
   "metadata": {},
   "outputs": [
    {
     "name": "stdout",
     "output_type": "stream",
     "text": [
      "            START_DATE          END_DATE CATEGORY*             START  \\\n",
      "1155            Totals               NaN       NaN               NaN   \n",
      "269    3/25/2016 16:52   3/25/2016 22:22  Business             Latta   \n",
      "270    3/25/2016 22:54    3/26/2016 1:39  Business      Jacksonville   \n",
      "881   10/30/2016 15:22  10/30/2016 18:23  Business         Asheville   \n",
      "776    9/27/2016 21:01    9/28/2016 2:37  Business  Unknown Location   \n",
      "\n",
      "                 STOP*   MILES*        PURPOSE*  \n",
      "1155               NaN  12204.7             NaN  \n",
      "269       Jacksonville    310.3  Customer Visit  \n",
      "270          Kissimmee    201.0         Meeting  \n",
      "881             Mebane    195.9             NaN  \n",
      "776   Unknown Location    195.6             NaN  \n"
     ]
    }
   ],
   "source": [
    "#Show top 5 rides with the longest distance(Miles)\n",
    "t5r=data.sort_values(by='MILES*',ascending = False).head(5)\n",
    "print(t5r)"
   ]
  },
  {
   "cell_type": "code",
   "execution_count": 23,
   "id": "e2cedb78-838e-43b5-a530-a654d707954e",
   "metadata": {},
   "outputs": [
    {
     "name": "stdout",
     "output_type": "stream",
     "text": [
      "0        Meal/Entertain\n",
      "1         NOT SPECIFIED\n",
      "2       Errand/Supplies\n",
      "3               Meeting\n",
      "4        Customer Visit\n",
      "             ...       \n",
      "1151     Temporary Site\n",
      "1152            Meeting\n",
      "1153     Temporary Site\n",
      "1154     Temporary Site\n",
      "1155      NOT SPECIFIED\n",
      "Name: PURPOSE*, Length: 1156, dtype: object\n"
     ]
    }
   ],
   "source": [
    "#Replace all missing PURPOSEvalues with \"NOT SPECIFIED\"\n",
    "data['PURPOSE*'] = data['PURPOSE*'].fillna('NOT SPECIFIED')\n",
    "print(data['PURPOSE*'])"
   ]
  },
  {
   "cell_type": "code",
   "execution_count": 51,
   "id": "bac78c13-3432-455c-9b49-20ec9fb41385",
   "metadata": {},
   "outputs": [
    {
     "name": "stdout",
     "output_type": "stream",
     "text": [
      "           START_DATE            END_DATE   TRIP_DURATION\n",
      "0 2016-01-01 21:11:00 2016-01-01 21:17:00 0 days 00:06:00\n",
      "1 2016-01-02 01:25:00 2016-01-02 01:37:00 0 days 00:12:00\n",
      "2 2016-01-02 20:25:00 2016-01-02 20:38:00 0 days 00:13:00\n",
      "3 2016-01-05 17:31:00 2016-01-05 17:45:00 0 days 00:14:00\n",
      "4 2016-01-06 14:42:00 2016-01-06 15:49:00 0 days 01:07:00\n"
     ]
    }
   ],
   "source": [
    "# Create a new column TRIP_DURATION using END_DATE-START_DATE\n",
    "data['START_DATE'] = pd.to_datetime(data['START_DATE'], errors='coerce')\n",
    "data['END_DATE'] = pd.to_datetime(data['END_DATE'], errors='coerce')\n",
    "data['TRIP_DURATION'] = data['END_DATE'] - data['START_DATE']\n",
    "data = data.dropna(subset=['TRIP_DURATION'])\n",
    "print(data[['START_DATE', 'END_DATE', 'TRIP_DURATION']].head())\n"
   ]
  },
  {
   "cell_type": "code",
   "execution_count": 49,
   "id": "74d04204-3361-4235-a311-de366bd1037e",
   "metadata": {},
   "outputs": [
    {
     "name": "stdout",
     "output_type": "stream",
     "text": [
      "                 START              STOP    MILES\n",
      "1155               NaN               NaN  12204.7\n",
      "269              Latta      Jacksonville    310.3\n",
      "270       Jacksonville         Kissimmee    201.0\n",
      "881          Asheville            Mebane    195.9\n",
      "776   Unknown Location  Unknown Location    195.6\n"
     ]
    }
   ],
   "source": [
    "#Sort trips by distance in descending order \n",
    "sorted_trips = data.sort_values(by='MILES', ascending=False)\n",
    "print(sorted_trips[['START', 'STOP', 'MILES']].head())"
   ]
  },
  {
   "cell_type": "code",
   "execution_count": null,
   "id": "2b6a951e-d95c-4227-a31b-4ae0d548175e",
   "metadata": {},
   "outputs": [],
   "source": []
  }
 ],
 "metadata": {
  "kernelspec": {
   "display_name": "Python 3 (ipykernel)",
   "language": "python",
   "name": "python3"
  },
  "language_info": {
   "codemirror_mode": {
    "name": "ipython",
    "version": 3
   },
   "file_extension": ".py",
   "mimetype": "text/x-python",
   "name": "python",
   "nbconvert_exporter": "python",
   "pygments_lexer": "ipython3",
   "version": "3.13.5"
  }
 },
 "nbformat": 4,
 "nbformat_minor": 5
}
